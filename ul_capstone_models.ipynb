{
 "cells": [
  {
   "cell_type": "markdown",
   "metadata": {},
   "source": [
    "# Was Seinfeld really a show about nothing?\n",
    "\n",
    ">JERRY: *So, we go into NBC, we tell them we've got an idea for a show about nothing.*\n",
    "\n",
    ">GEORGE: *Exactly.*\n",
    "\n",
    ">JERRY: *They say, \"What's your show about?\" I say, \"Nothing.\"*\n",
    "\n",
    ">GEORGE: *There you go.*\n",
    "\n",
    "-Episode 43 - The Pitch\n"
   ]
  },
  {
   "cell_type": "code",
   "execution_count": 95,
   "metadata": {},
   "outputs": [
    {
     "name": "stdout",
     "output_type": "stream",
     "text": [
      "[nltk_data] Downloading package wordnet to\n",
      "[nltk_data]     /Users/andrewboho/nltk_data...\n",
      "[nltk_data]   Package wordnet is already up-to-date!\n"
     ]
    }
   ],
   "source": [
    "import re\n",
    "import numpy as np\n",
    "import pandas as pd\n",
    "import matplotlib.pyplot as plt\n",
    "import seaborn as sns\n",
    "\n",
    "from sklearn.feature_extraction.text import CountVectorizer\n",
    "from sklearn.feature_extraction.text import TfidfTransformer\n",
    "from sklearn.decomposition import PCA\n",
    "from sklearn.decomposition import LatentDirichletAllocation\n",
    "\n",
    "import nltk\n",
    "nltk.download('wordnet')\n",
    "\n",
    "from nltk.stem.porter import PorterStemmer\n",
    "from nltk.stem import WordNetLemmatizer\n",
    "from nltk.corpus import stopwords\n",
    "stop_words = stopwords.words(\"english\")\n",
    "\n",
    "import warnings\n",
    "warnings.filterwarnings(\"ignore\")"
   ]
  },
  {
   "cell_type": "markdown",
   "metadata": {},
   "source": [
    "## The data\n",
    "\n",
    "We use the the [“Seinfeld Chronicles”](https://www.kaggle.com/thec03u5/seinfeld-chronicles/home) dataset available from Kaggle. The dataset itself is split into two files: 1) episode info, and 2) scripts.\n",
    "\n",
    "The first file contains 174 rows of episodes in seven variables:  season number, episode number, episode title, air date, writer, director, and episode ID (the season number and episode number concatenated together).\n",
    "\n",
    "The second file contains 54,616 rows of spoken dialogue in five variables: character speaking, dialogue spoke, episode number, episode ID, and the season number. Ten rows of null dialogue were dropped leaving 54,606 used in the analysis.\n",
    "\n",
    "We start the analysis with the epsode info data:"
   ]
  },
  {
   "cell_type": "code",
   "execution_count": 58,
   "metadata": {},
   "outputs": [
    {
     "name": "stdout",
     "output_type": "stream",
     "text": [
      "Rows: 174\n",
      "Columns: 7\n"
     ]
    },
    {
     "data": {
      "text/html": [
       "<div>\n",
       "<style scoped>\n",
       "    .dataframe tbody tr th:only-of-type {\n",
       "        vertical-align: middle;\n",
       "    }\n",
       "\n",
       "    .dataframe tbody tr th {\n",
       "        vertical-align: top;\n",
       "    }\n",
       "\n",
       "    .dataframe thead th {\n",
       "        text-align: right;\n",
       "    }\n",
       "</style>\n",
       "<table border=\"1\" class=\"dataframe\">\n",
       "  <thead>\n",
       "    <tr style=\"text-align: right;\">\n",
       "      <th></th>\n",
       "      <th>Season</th>\n",
       "      <th>EpisodeNo</th>\n",
       "      <th>Title</th>\n",
       "      <th>AirDate</th>\n",
       "      <th>Writers</th>\n",
       "      <th>Director</th>\n",
       "      <th>SEID</th>\n",
       "    </tr>\n",
       "  </thead>\n",
       "  <tbody>\n",
       "    <tr>\n",
       "      <th>0</th>\n",
       "      <td>1.0</td>\n",
       "      <td>1.0</td>\n",
       "      <td>Good News, Bad News</td>\n",
       "      <td>July 5, 1989</td>\n",
       "      <td>Larry David, Jerry Seinfeld</td>\n",
       "      <td>Art Wolff</td>\n",
       "      <td>S01E01</td>\n",
       "    </tr>\n",
       "    <tr>\n",
       "      <th>1</th>\n",
       "      <td>1.0</td>\n",
       "      <td>1.0</td>\n",
       "      <td>The Stakeout</td>\n",
       "      <td>May 31, 1990</td>\n",
       "      <td>Larry David, Jerry Seinfeld</td>\n",
       "      <td>Tom Cherones</td>\n",
       "      <td>S01E01</td>\n",
       "    </tr>\n",
       "    <tr>\n",
       "      <th>2</th>\n",
       "      <td>1.0</td>\n",
       "      <td>2.0</td>\n",
       "      <td>The Robbery</td>\n",
       "      <td>June 7, 1990</td>\n",
       "      <td>Matt Goldman</td>\n",
       "      <td>Tom Cherones</td>\n",
       "      <td>S01E02</td>\n",
       "    </tr>\n",
       "    <tr>\n",
       "      <th>3</th>\n",
       "      <td>1.0</td>\n",
       "      <td>3.0</td>\n",
       "      <td>Male Unbonding</td>\n",
       "      <td>June 14, 1990</td>\n",
       "      <td>Larry David, Jerry Seinfeld</td>\n",
       "      <td>Tom Cherones</td>\n",
       "      <td>S01E03</td>\n",
       "    </tr>\n",
       "    <tr>\n",
       "      <th>4</th>\n",
       "      <td>1.0</td>\n",
       "      <td>4.0</td>\n",
       "      <td>The Stock Tip</td>\n",
       "      <td>June 21, 1990</td>\n",
       "      <td>Larry David, Jerry Seinfeld</td>\n",
       "      <td>Tom Cherones</td>\n",
       "      <td>S01E04</td>\n",
       "    </tr>\n",
       "  </tbody>\n",
       "</table>\n",
       "</div>"
      ],
      "text/plain": [
       "   Season  EpisodeNo                Title        AirDate  \\\n",
       "0     1.0        1.0  Good News, Bad News   July 5, 1989   \n",
       "1     1.0        1.0         The Stakeout   May 31, 1990   \n",
       "2     1.0        2.0          The Robbery   June 7, 1990   \n",
       "3     1.0        3.0       Male Unbonding  June 14, 1990   \n",
       "4     1.0        4.0        The Stock Tip  June 21, 1990   \n",
       "\n",
       "                       Writers      Director    SEID  \n",
       "0  Larry David, Jerry Seinfeld     Art Wolff  S01E01  \n",
       "1  Larry David, Jerry Seinfeld  Tom Cherones  S01E01  \n",
       "2                 Matt Goldman  Tom Cherones  S01E02  \n",
       "3  Larry David, Jerry Seinfeld  Tom Cherones  S01E03  \n",
       "4  Larry David, Jerry Seinfeld  Tom Cherones  S01E04  "
      ]
     },
     "execution_count": 58,
     "metadata": {},
     "output_type": "execute_result"
    }
   ],
   "source": [
    "df = pd.read_csv(\"episode_info.csv\")\n",
    "\n",
    "# Drop duplicate index column\n",
    "df.drop([\"Unnamed: 0\"], axis=1, inplace=True)\n",
    "\n",
    "print(\"Rows: {}\\nColumns: {}\".format(df.shape[0], df.shape[1]))\n",
    "df.head(n=5)"
   ]
  },
  {
   "cell_type": "code",
   "execution_count": 59,
   "metadata": {},
   "outputs": [
    {
     "name": "stdout",
     "output_type": "stream",
     "text": [
      "<class 'pandas.core.frame.DataFrame'>\n",
      "RangeIndex: 174 entries, 0 to 173\n",
      "Data columns (total 7 columns):\n",
      "Season       174 non-null float64\n",
      "EpisodeNo    174 non-null float64\n",
      "Title        174 non-null object\n",
      "AirDate      174 non-null object\n",
      "Writers      174 non-null object\n",
      "Director     174 non-null object\n",
      "SEID         174 non-null object\n",
      "dtypes: float64(2), object(5)\n",
      "memory usage: 9.6+ KB\n"
     ]
    }
   ],
   "source": [
    "df.info()"
   ]
  },
  {
   "cell_type": "markdown",
   "metadata": {},
   "source": [
    "### Preprocessing\n",
    "This sets up the preprocessing and tokenization function. I first tried this with PorterStemmer, but ended up with a lot of strange stem words (\"stakeout\" converted to \"stakeou\", for example). So I decided to go with the NLTK word_netlemmatizer instead."
   ]
  },
  {
   "cell_type": "code",
   "execution_count": 60,
   "metadata": {},
   "outputs": [],
   "source": [
    "def preprocess_text(text):\n",
    "    # Remove text and tokenize\n",
    "    text = str(text)\n",
    "    regex_pattern = r\"(\\w[\\w']*\\w|\\w)\"\n",
    "    regex_compiled = re.compile(regex_pattern)\n",
    "    tokens = regex_compiled.findall(text)\n",
    "    \n",
    "    # Convert to lowercase\n",
    "    tokens = [word.lower() for word in tokens]\n",
    "    \n",
    "    # Remove stopwords\n",
    "    tokens = [word for word in tokens if word not in stop_words]\n",
    "    \n",
    "    # Stem\n",
    "    #porter = PorterStemmer()\n",
    "    #tokens = [porter.stem(word) for word in tokens]\n",
    "    wordnet_lemmatizer = WordNetLemmatizer()\n",
    "    tokens = [wordnet_lemmatizer.lemmatize(word) for word in tokens]\n",
    "    \n",
    "    return tokens"
   ]
  },
  {
   "cell_type": "code",
   "execution_count": 61,
   "metadata": {},
   "outputs": [
    {
     "data": {
      "text/html": [
       "<div>\n",
       "<style scoped>\n",
       "    .dataframe tbody tr th:only-of-type {\n",
       "        vertical-align: middle;\n",
       "    }\n",
       "\n",
       "    .dataframe tbody tr th {\n",
       "        vertical-align: top;\n",
       "    }\n",
       "\n",
       "    .dataframe thead th {\n",
       "        text-align: right;\n",
       "    }\n",
       "</style>\n",
       "<table border=\"1\" class=\"dataframe\">\n",
       "  <thead>\n",
       "    <tr style=\"text-align: right;\">\n",
       "      <th></th>\n",
       "      <th>Season</th>\n",
       "      <th>EpisodeNo</th>\n",
       "      <th>Title</th>\n",
       "      <th>AirDate</th>\n",
       "      <th>Writers</th>\n",
       "      <th>Director</th>\n",
       "      <th>SEID</th>\n",
       "      <th>title_word_list</th>\n",
       "    </tr>\n",
       "  </thead>\n",
       "  <tbody>\n",
       "    <tr>\n",
       "      <th>0</th>\n",
       "      <td>1.0</td>\n",
       "      <td>1.0</td>\n",
       "      <td>Good News, Bad News</td>\n",
       "      <td>July 5, 1989</td>\n",
       "      <td>Larry David, Jerry Seinfeld</td>\n",
       "      <td>Art Wolff</td>\n",
       "      <td>S01E01</td>\n",
       "      <td>[good, news, bad, news]</td>\n",
       "    </tr>\n",
       "    <tr>\n",
       "      <th>1</th>\n",
       "      <td>1.0</td>\n",
       "      <td>1.0</td>\n",
       "      <td>The Stakeout</td>\n",
       "      <td>May 31, 1990</td>\n",
       "      <td>Larry David, Jerry Seinfeld</td>\n",
       "      <td>Tom Cherones</td>\n",
       "      <td>S01E01</td>\n",
       "      <td>[stakeout]</td>\n",
       "    </tr>\n",
       "    <tr>\n",
       "      <th>2</th>\n",
       "      <td>1.0</td>\n",
       "      <td>2.0</td>\n",
       "      <td>The Robbery</td>\n",
       "      <td>June 7, 1990</td>\n",
       "      <td>Matt Goldman</td>\n",
       "      <td>Tom Cherones</td>\n",
       "      <td>S01E02</td>\n",
       "      <td>[robbery]</td>\n",
       "    </tr>\n",
       "    <tr>\n",
       "      <th>3</th>\n",
       "      <td>1.0</td>\n",
       "      <td>3.0</td>\n",
       "      <td>Male Unbonding</td>\n",
       "      <td>June 14, 1990</td>\n",
       "      <td>Larry David, Jerry Seinfeld</td>\n",
       "      <td>Tom Cherones</td>\n",
       "      <td>S01E03</td>\n",
       "      <td>[male, unbonding]</td>\n",
       "    </tr>\n",
       "    <tr>\n",
       "      <th>4</th>\n",
       "      <td>1.0</td>\n",
       "      <td>4.0</td>\n",
       "      <td>The Stock Tip</td>\n",
       "      <td>June 21, 1990</td>\n",
       "      <td>Larry David, Jerry Seinfeld</td>\n",
       "      <td>Tom Cherones</td>\n",
       "      <td>S01E04</td>\n",
       "      <td>[stock, tip]</td>\n",
       "    </tr>\n",
       "  </tbody>\n",
       "</table>\n",
       "</div>"
      ],
      "text/plain": [
       "   Season  EpisodeNo                Title        AirDate  \\\n",
       "0     1.0        1.0  Good News, Bad News   July 5, 1989   \n",
       "1     1.0        1.0         The Stakeout   May 31, 1990   \n",
       "2     1.0        2.0          The Robbery   June 7, 1990   \n",
       "3     1.0        3.0       Male Unbonding  June 14, 1990   \n",
       "4     1.0        4.0        The Stock Tip  June 21, 1990   \n",
       "\n",
       "                       Writers      Director    SEID          title_word_list  \n",
       "0  Larry David, Jerry Seinfeld     Art Wolff  S01E01  [good, news, bad, news]  \n",
       "1  Larry David, Jerry Seinfeld  Tom Cherones  S01E01               [stakeout]  \n",
       "2                 Matt Goldman  Tom Cherones  S01E02                [robbery]  \n",
       "3  Larry David, Jerry Seinfeld  Tom Cherones  S01E03        [male, unbonding]  \n",
       "4  Larry David, Jerry Seinfeld  Tom Cherones  S01E04             [stock, tip]  "
      ]
     },
     "execution_count": 61,
     "metadata": {},
     "output_type": "execute_result"
    }
   ],
   "source": [
    "df[\"title_word_list\"] = df[\"Title\"].apply(lambda x: preprocess_text(x))\n",
    "df.head()"
   ]
  },
  {
   "cell_type": "markdown",
   "metadata": {},
   "source": [
    "## Look at the show titles first\n",
    "To the extent that show titles are a succinct distillation of an epside’s topic, we will look at the title names and see if they reveal any coherent  groupings that point to continuing story arcs.\n",
    "### Bag-o'-words and TF-IDF"
   ]
  },
  {
   "cell_type": "code",
   "execution_count": 62,
   "metadata": {},
   "outputs": [],
   "source": [
    "count_vect = CountVectorizer(tokenizer=preprocess_text)\n",
    "bag = count_vect.fit_transform(df[\"Title\"])"
   ]
  },
  {
   "cell_type": "code",
   "execution_count": 64,
   "metadata": {},
   "outputs": [],
   "source": [
    "tfidf = TfidfTransformer()\n",
    "tfidf_bag = tfidf.fit_transform(bag)"
   ]
  },
  {
   "cell_type": "markdown",
   "metadata": {},
   "source": [
    "### LDA"
   ]
  },
  {
   "cell_type": "code",
   "execution_count": 137,
   "metadata": {},
   "outputs": [],
   "source": [
    "lda = LatentDirichletAllocation(n_topics=5)\n",
    "bag_topics = lda.fit_transform(tfidf_bag)"
   ]
  },
  {
   "cell_type": "code",
   "execution_count": 138,
   "metadata": {},
   "outputs": [
    {
     "data": {
      "text/plain": [
       "(5, 17130)"
      ]
     },
     "execution_count": 138,
     "metadata": {},
     "output_type": "execute_result"
    }
   ],
   "source": [
    "lda.components_.shape"
   ]
  },
  {
   "cell_type": "code",
   "execution_count": 139,
   "metadata": {},
   "outputs": [
    {
     "name": "stdout",
     "output_type": "stream",
     "text": [
      "Topic 1\n",
      "yeah\n",
      "hey\n",
      "know\n",
      "right\n",
      "uh\n",
      "\n",
      "Topic 2\n",
      "well\n",
      "mr\n",
      "said\n",
      "we're\n",
      "thank\n",
      "\n",
      "Topic 3\n",
      "think\n",
      "jerry\n",
      "hi\n",
      "hello\n",
      "elaine\n",
      "\n",
      "Topic 4\n",
      "that's\n",
      "oh\n",
      "kramer\n",
      "could\n",
      "can't\n",
      "\n",
      "Topic 5\n",
      "i'm\n",
      "look\n",
      "sorry\n",
      "need\n",
      "happened\n",
      "\n"
     ]
    }
   ],
   "source": [
    "n_top_words = 5\n",
    "feature_names = count_vect.get_feature_names()\n",
    "for topic_idx, topic in enumerate(lda.components_):\n",
    "    print(\"Topic {}\".format(topic_idx + 1))\n",
    "    print(\"\\n\".join([feature_names[i] for i in topic.argsort()[:-n_top_words-1:-1]]))\n",
    "    print()"
   ]
  },
  {
   "cell_type": "markdown",
   "metadata": {},
   "source": [
    "Those groupings seem pretty random to me. As far as episode titles go, there doesn't seem to be an overarching theme.\n",
    "\n",
    "## The dialogue\n",
    "Next, the same analysis is conducted on the dialogue, in searching for recurring themes or story arcs."
   ]
  },
  {
   "cell_type": "code",
   "execution_count": 68,
   "metadata": {},
   "outputs": [
    {
     "data": {
      "text/html": [
       "<div>\n",
       "<style scoped>\n",
       "    .dataframe tbody tr th:only-of-type {\n",
       "        vertical-align: middle;\n",
       "    }\n",
       "\n",
       "    .dataframe tbody tr th {\n",
       "        vertical-align: top;\n",
       "    }\n",
       "\n",
       "    .dataframe thead th {\n",
       "        text-align: right;\n",
       "    }\n",
       "</style>\n",
       "<table border=\"1\" class=\"dataframe\">\n",
       "  <thead>\n",
       "    <tr style=\"text-align: right;\">\n",
       "      <th></th>\n",
       "      <th>Unnamed: 0</th>\n",
       "      <th>Character</th>\n",
       "      <th>Dialogue</th>\n",
       "      <th>EpisodeNo</th>\n",
       "      <th>SEID</th>\n",
       "      <th>Season</th>\n",
       "    </tr>\n",
       "  </thead>\n",
       "  <tbody>\n",
       "    <tr>\n",
       "      <th>0</th>\n",
       "      <td>0</td>\n",
       "      <td>JERRY</td>\n",
       "      <td>Do you know what this is all about? Do you kno...</td>\n",
       "      <td>1.0</td>\n",
       "      <td>S01E01</td>\n",
       "      <td>1.0</td>\n",
       "    </tr>\n",
       "    <tr>\n",
       "      <th>1</th>\n",
       "      <td>1</td>\n",
       "      <td>JERRY</td>\n",
       "      <td>(pointing at Georges shirt) See, to me, that b...</td>\n",
       "      <td>1.0</td>\n",
       "      <td>S01E01</td>\n",
       "      <td>1.0</td>\n",
       "    </tr>\n",
       "    <tr>\n",
       "      <th>2</th>\n",
       "      <td>2</td>\n",
       "      <td>GEORGE</td>\n",
       "      <td>Are you through?</td>\n",
       "      <td>1.0</td>\n",
       "      <td>S01E01</td>\n",
       "      <td>1.0</td>\n",
       "    </tr>\n",
       "    <tr>\n",
       "      <th>3</th>\n",
       "      <td>3</td>\n",
       "      <td>JERRY</td>\n",
       "      <td>You do of course try on, when you buy?</td>\n",
       "      <td>1.0</td>\n",
       "      <td>S01E01</td>\n",
       "      <td>1.0</td>\n",
       "    </tr>\n",
       "    <tr>\n",
       "      <th>4</th>\n",
       "      <td>4</td>\n",
       "      <td>GEORGE</td>\n",
       "      <td>Yes, it was purple, I liked it, I dont actuall...</td>\n",
       "      <td>1.0</td>\n",
       "      <td>S01E01</td>\n",
       "      <td>1.0</td>\n",
       "    </tr>\n",
       "    <tr>\n",
       "      <th>5</th>\n",
       "      <td>5</td>\n",
       "      <td>JERRY</td>\n",
       "      <td>Oh, you dont recall?</td>\n",
       "      <td>1.0</td>\n",
       "      <td>S01E01</td>\n",
       "      <td>1.0</td>\n",
       "    </tr>\n",
       "    <tr>\n",
       "      <th>6</th>\n",
       "      <td>6</td>\n",
       "      <td>GEORGE</td>\n",
       "      <td>(on an imaginary microphone) Uh, no, not at th...</td>\n",
       "      <td>1.0</td>\n",
       "      <td>S01E01</td>\n",
       "      <td>1.0</td>\n",
       "    </tr>\n",
       "    <tr>\n",
       "      <th>7</th>\n",
       "      <td>7</td>\n",
       "      <td>JERRY</td>\n",
       "      <td>Well, senator, Id just like to know, what you ...</td>\n",
       "      <td>1.0</td>\n",
       "      <td>S01E01</td>\n",
       "      <td>1.0</td>\n",
       "    </tr>\n",
       "    <tr>\n",
       "      <th>8</th>\n",
       "      <td>8</td>\n",
       "      <td>CLAIRE</td>\n",
       "      <td>Mr. Seinfeld. Mr. Costanza.</td>\n",
       "      <td>1.0</td>\n",
       "      <td>S01E01</td>\n",
       "      <td>1.0</td>\n",
       "    </tr>\n",
       "    <tr>\n",
       "      <th>9</th>\n",
       "      <td>9</td>\n",
       "      <td>GEORGE</td>\n",
       "      <td>Are, are you sure this is decaf? Wheres the or...</td>\n",
       "      <td>1.0</td>\n",
       "      <td>S01E01</td>\n",
       "      <td>1.0</td>\n",
       "    </tr>\n",
       "  </tbody>\n",
       "</table>\n",
       "</div>"
      ],
      "text/plain": [
       "   Unnamed: 0 Character                                           Dialogue  \\\n",
       "0           0     JERRY  Do you know what this is all about? Do you kno...   \n",
       "1           1     JERRY  (pointing at Georges shirt) See, to me, that b...   \n",
       "2           2    GEORGE                                   Are you through?   \n",
       "3           3     JERRY             You do of course try on, when you buy?   \n",
       "4           4    GEORGE  Yes, it was purple, I liked it, I dont actuall...   \n",
       "5           5     JERRY                               Oh, you dont recall?   \n",
       "6           6    GEORGE  (on an imaginary microphone) Uh, no, not at th...   \n",
       "7           7     JERRY  Well, senator, Id just like to know, what you ...   \n",
       "8           8    CLAIRE                        Mr. Seinfeld. Mr. Costanza.   \n",
       "9           9    GEORGE  Are, are you sure this is decaf? Wheres the or...   \n",
       "\n",
       "   EpisodeNo    SEID  Season  \n",
       "0        1.0  S01E01     1.0  \n",
       "1        1.0  S01E01     1.0  \n",
       "2        1.0  S01E01     1.0  \n",
       "3        1.0  S01E01     1.0  \n",
       "4        1.0  S01E01     1.0  \n",
       "5        1.0  S01E01     1.0  \n",
       "6        1.0  S01E01     1.0  \n",
       "7        1.0  S01E01     1.0  \n",
       "8        1.0  S01E01     1.0  \n",
       "9        1.0  S01E01     1.0  "
      ]
     },
     "execution_count": 68,
     "metadata": {},
     "output_type": "execute_result"
    }
   ],
   "source": [
    "df2 = pd.read_csv(\"scripts.csv\")\n",
    "df2.head(n=10)"
   ]
  },
  {
   "cell_type": "code",
   "execution_count": 70,
   "metadata": {},
   "outputs": [
    {
     "name": "stdout",
     "output_type": "stream",
     "text": [
      "<class 'pandas.core.frame.DataFrame'>\n",
      "RangeIndex: 54616 entries, 0 to 54615\n",
      "Data columns (total 7 columns):\n",
      "Unnamed: 0            54616 non-null int64\n",
      "Character             54616 non-null object\n",
      "Dialogue              54606 non-null object\n",
      "EpisodeNo             54616 non-null float64\n",
      "SEID                  54616 non-null object\n",
      "Season                54616 non-null float64\n",
      "dialogue_word_list    54616 non-null object\n",
      "dtypes: float64(2), int64(1), object(4)\n",
      "memory usage: 2.9+ MB\n"
     ]
    }
   ],
   "source": [
    "df2.info()"
   ]
  },
  {
   "cell_type": "code",
   "execution_count": 71,
   "metadata": {},
   "outputs": [
    {
     "data": {
      "text/plain": [
       "Unnamed: 0             0\n",
       "Character              0\n",
       "Dialogue              10\n",
       "EpisodeNo              0\n",
       "SEID                   0\n",
       "Season                 0\n",
       "dialogue_word_list     0\n",
       "dtype: int64"
      ]
     },
     "execution_count": 71,
     "metadata": {},
     "output_type": "execute_result"
    }
   ],
   "source": [
    "df2.isnull().sum()"
   ]
  },
  {
   "cell_type": "code",
   "execution_count": 72,
   "metadata": {},
   "outputs": [],
   "source": [
    "df2.dropna(inplace=True)"
   ]
  },
  {
   "cell_type": "code",
   "execution_count": 73,
   "metadata": {},
   "outputs": [
    {
     "data": {
      "text/plain": [
       "Unnamed: 0            0\n",
       "Character             0\n",
       "Dialogue              0\n",
       "EpisodeNo             0\n",
       "SEID                  0\n",
       "Season                0\n",
       "dialogue_word_list    0\n",
       "dtype: int64"
      ]
     },
     "execution_count": 73,
     "metadata": {},
     "output_type": "execute_result"
    }
   ],
   "source": [
    "df2.isnull().sum()"
   ]
  },
  {
   "cell_type": "code",
   "execution_count": 74,
   "metadata": {},
   "outputs": [
    {
     "name": "stdout",
     "output_type": "stream",
     "text": [
      "<class 'pandas.core.frame.DataFrame'>\n",
      "Int64Index: 54606 entries, 0 to 54615\n",
      "Data columns (total 7 columns):\n",
      "Unnamed: 0            54606 non-null int64\n",
      "Character             54606 non-null object\n",
      "Dialogue              54606 non-null object\n",
      "EpisodeNo             54606 non-null float64\n",
      "SEID                  54606 non-null object\n",
      "Season                54606 non-null float64\n",
      "dialogue_word_list    54606 non-null object\n",
      "dtypes: float64(2), int64(1), object(4)\n",
      "memory usage: 3.3+ MB\n"
     ]
    }
   ],
   "source": [
    "df2.info()"
   ]
  },
  {
   "cell_type": "code",
   "execution_count": 75,
   "metadata": {},
   "outputs": [
    {
     "data": {
      "text/html": [
       "<div>\n",
       "<style scoped>\n",
       "    .dataframe tbody tr th:only-of-type {\n",
       "        vertical-align: middle;\n",
       "    }\n",
       "\n",
       "    .dataframe tbody tr th {\n",
       "        vertical-align: top;\n",
       "    }\n",
       "\n",
       "    .dataframe thead th {\n",
       "        text-align: right;\n",
       "    }\n",
       "</style>\n",
       "<table border=\"1\" class=\"dataframe\">\n",
       "  <thead>\n",
       "    <tr style=\"text-align: right;\">\n",
       "      <th></th>\n",
       "      <th>Unnamed: 0</th>\n",
       "      <th>Character</th>\n",
       "      <th>Dialogue</th>\n",
       "      <th>EpisodeNo</th>\n",
       "      <th>SEID</th>\n",
       "      <th>Season</th>\n",
       "      <th>dialogue_word_list</th>\n",
       "    </tr>\n",
       "  </thead>\n",
       "  <tbody>\n",
       "    <tr>\n",
       "      <th>0</th>\n",
       "      <td>0</td>\n",
       "      <td>JERRY</td>\n",
       "      <td>Do you know what this is all about? Do you kno...</td>\n",
       "      <td>1.0</td>\n",
       "      <td>S01E01</td>\n",
       "      <td>1.0</td>\n",
       "      <td>[know, know, one, single, enjoyable, experienc...</td>\n",
       "    </tr>\n",
       "    <tr>\n",
       "      <th>1</th>\n",
       "      <td>1</td>\n",
       "      <td>JERRY</td>\n",
       "      <td>(pointing at Georges shirt) See, to me, that b...</td>\n",
       "      <td>1.0</td>\n",
       "      <td>S01E01</td>\n",
       "      <td>1.0</td>\n",
       "      <td>[pointing, george, shirt, see, button, worst, ...</td>\n",
       "    </tr>\n",
       "    <tr>\n",
       "      <th>2</th>\n",
       "      <td>2</td>\n",
       "      <td>GEORGE</td>\n",
       "      <td>Are you through?</td>\n",
       "      <td>1.0</td>\n",
       "      <td>S01E01</td>\n",
       "      <td>1.0</td>\n",
       "      <td>[]</td>\n",
       "    </tr>\n",
       "    <tr>\n",
       "      <th>3</th>\n",
       "      <td>3</td>\n",
       "      <td>JERRY</td>\n",
       "      <td>You do of course try on, when you buy?</td>\n",
       "      <td>1.0</td>\n",
       "      <td>S01E01</td>\n",
       "      <td>1.0</td>\n",
       "      <td>[course, try, buy]</td>\n",
       "    </tr>\n",
       "    <tr>\n",
       "      <th>4</th>\n",
       "      <td>4</td>\n",
       "      <td>GEORGE</td>\n",
       "      <td>Yes, it was purple, I liked it, I dont actuall...</td>\n",
       "      <td>1.0</td>\n",
       "      <td>S01E01</td>\n",
       "      <td>1.0</td>\n",
       "      <td>[yes, purple, liked, dont, actually, recall, c...</td>\n",
       "    </tr>\n",
       "  </tbody>\n",
       "</table>\n",
       "</div>"
      ],
      "text/plain": [
       "   Unnamed: 0 Character                                           Dialogue  \\\n",
       "0           0     JERRY  Do you know what this is all about? Do you kno...   \n",
       "1           1     JERRY  (pointing at Georges shirt) See, to me, that b...   \n",
       "2           2    GEORGE                                   Are you through?   \n",
       "3           3     JERRY             You do of course try on, when you buy?   \n",
       "4           4    GEORGE  Yes, it was purple, I liked it, I dont actuall...   \n",
       "\n",
       "   EpisodeNo    SEID  Season  \\\n",
       "0        1.0  S01E01     1.0   \n",
       "1        1.0  S01E01     1.0   \n",
       "2        1.0  S01E01     1.0   \n",
       "3        1.0  S01E01     1.0   \n",
       "4        1.0  S01E01     1.0   \n",
       "\n",
       "                                  dialogue_word_list  \n",
       "0  [know, know, one, single, enjoyable, experienc...  \n",
       "1  [pointing, george, shirt, see, button, worst, ...  \n",
       "2                                                 []  \n",
       "3                                 [course, try, buy]  \n",
       "4  [yes, purple, liked, dont, actually, recall, c...  "
      ]
     },
     "execution_count": 75,
     "metadata": {},
     "output_type": "execute_result"
    }
   ],
   "source": [
    "df2[\"dialogue_word_list\"] = df2[\"Dialogue\"].apply(lambda x: preprocess_text(x))\n",
    "df2.head()"
   ]
  },
  {
   "cell_type": "code",
   "execution_count": 88,
   "metadata": {
    "scrolled": false
   },
   "outputs": [
    {
     "data": {
      "text/plain": [
       "JERRY           14786\n",
       "GEORGE           9708\n",
       "ELAINE           7983\n",
       "KRAMER           6664\n",
       "NEWMAN            640\n",
       "MORTY             505\n",
       "HELEN             471\n",
       "FRANK             436\n",
       "SUSAN             379\n",
       "[Setting          293\n",
       "ESTELLE           286\n",
       "PETERMAN          191\n",
       "PUDDY             162\n",
       "WOMAN             157\n",
       "MAN               143\n",
       "JACK              124\n",
       "MICKEY            111\n",
       "BANIA             102\n",
       "STEINBRENNER      101\n",
       "DOCTOR             91\n",
       "Name: Character, dtype: int64"
      ]
     },
     "execution_count": 88,
     "metadata": {},
     "output_type": "execute_result"
    }
   ],
   "source": [
    "df2[\"Character\"].value_counts().head(20)"
   ]
  },
  {
   "cell_type": "markdown",
   "metadata": {},
   "source": [
    "Create a variable that consolidates the character names to the main four (Jerry, George, Elaine, and Kramer). This is done to make plotting easier later on."
   ]
  },
  {
   "cell_type": "code",
   "execution_count": 110,
   "metadata": {},
   "outputs": [],
   "source": [
    "def character_consolidate(name):\n",
    "    if (name == \"JERRY\") | (name == \"GEORGE\") | (name == \"ELAINE\") | (name == \"KRAMER\"):\n",
    "        return name\n",
    "    return \"OTHER\""
   ]
  },
  {
   "cell_type": "code",
   "execution_count": 114,
   "metadata": {},
   "outputs": [],
   "source": [
    "df2[\"Character_2\"] = df2[\"Character\"].apply(lambda x: character_consolidate(x))"
   ]
  },
  {
   "cell_type": "code",
   "execution_count": 115,
   "metadata": {},
   "outputs": [
    {
     "data": {
      "text/html": [
       "<div>\n",
       "<style scoped>\n",
       "    .dataframe tbody tr th:only-of-type {\n",
       "        vertical-align: middle;\n",
       "    }\n",
       "\n",
       "    .dataframe tbody tr th {\n",
       "        vertical-align: top;\n",
       "    }\n",
       "\n",
       "    .dataframe thead th {\n",
       "        text-align: right;\n",
       "    }\n",
       "</style>\n",
       "<table border=\"1\" class=\"dataframe\">\n",
       "  <thead>\n",
       "    <tr style=\"text-align: right;\">\n",
       "      <th></th>\n",
       "      <th>Unnamed: 0</th>\n",
       "      <th>Character</th>\n",
       "      <th>Dialogue</th>\n",
       "      <th>EpisodeNo</th>\n",
       "      <th>SEID</th>\n",
       "      <th>Season</th>\n",
       "      <th>dialogue_word_list</th>\n",
       "      <th>Character_2</th>\n",
       "    </tr>\n",
       "  </thead>\n",
       "  <tbody>\n",
       "    <tr>\n",
       "      <th>0</th>\n",
       "      <td>0</td>\n",
       "      <td>JERRY</td>\n",
       "      <td>Do you know what this is all about? Do you kno...</td>\n",
       "      <td>1.0</td>\n",
       "      <td>S01E01</td>\n",
       "      <td>1.0</td>\n",
       "      <td>[know, know, one, single, enjoyable, experienc...</td>\n",
       "      <td>JERRY</td>\n",
       "    </tr>\n",
       "    <tr>\n",
       "      <th>1</th>\n",
       "      <td>1</td>\n",
       "      <td>JERRY</td>\n",
       "      <td>(pointing at Georges shirt) See, to me, that b...</td>\n",
       "      <td>1.0</td>\n",
       "      <td>S01E01</td>\n",
       "      <td>1.0</td>\n",
       "      <td>[pointing, george, shirt, see, button, worst, ...</td>\n",
       "      <td>JERRY</td>\n",
       "    </tr>\n",
       "    <tr>\n",
       "      <th>2</th>\n",
       "      <td>2</td>\n",
       "      <td>GEORGE</td>\n",
       "      <td>Are you through?</td>\n",
       "      <td>1.0</td>\n",
       "      <td>S01E01</td>\n",
       "      <td>1.0</td>\n",
       "      <td>[]</td>\n",
       "      <td>GEORGE</td>\n",
       "    </tr>\n",
       "    <tr>\n",
       "      <th>3</th>\n",
       "      <td>3</td>\n",
       "      <td>JERRY</td>\n",
       "      <td>You do of course try on, when you buy?</td>\n",
       "      <td>1.0</td>\n",
       "      <td>S01E01</td>\n",
       "      <td>1.0</td>\n",
       "      <td>[course, try, buy]</td>\n",
       "      <td>JERRY</td>\n",
       "    </tr>\n",
       "    <tr>\n",
       "      <th>4</th>\n",
       "      <td>4</td>\n",
       "      <td>GEORGE</td>\n",
       "      <td>Yes, it was purple, I liked it, I dont actuall...</td>\n",
       "      <td>1.0</td>\n",
       "      <td>S01E01</td>\n",
       "      <td>1.0</td>\n",
       "      <td>[yes, purple, liked, dont, actually, recall, c...</td>\n",
       "      <td>GEORGE</td>\n",
       "    </tr>\n",
       "  </tbody>\n",
       "</table>\n",
       "</div>"
      ],
      "text/plain": [
       "   Unnamed: 0 Character                                           Dialogue  \\\n",
       "0           0     JERRY  Do you know what this is all about? Do you kno...   \n",
       "1           1     JERRY  (pointing at Georges shirt) See, to me, that b...   \n",
       "2           2    GEORGE                                   Are you through?   \n",
       "3           3     JERRY             You do of course try on, when you buy?   \n",
       "4           4    GEORGE  Yes, it was purple, I liked it, I dont actuall...   \n",
       "\n",
       "   EpisodeNo    SEID  Season  \\\n",
       "0        1.0  S01E01     1.0   \n",
       "1        1.0  S01E01     1.0   \n",
       "2        1.0  S01E01     1.0   \n",
       "3        1.0  S01E01     1.0   \n",
       "4        1.0  S01E01     1.0   \n",
       "\n",
       "                                  dialogue_word_list Character_2  \n",
       "0  [know, know, one, single, enjoyable, experienc...       JERRY  \n",
       "1  [pointing, george, shirt, see, button, worst, ...       JERRY  \n",
       "2                                                 []      GEORGE  \n",
       "3                                 [course, try, buy]       JERRY  \n",
       "4  [yes, purple, liked, dont, actually, recall, c...      GEORGE  "
      ]
     },
     "execution_count": 115,
     "metadata": {},
     "output_type": "execute_result"
    }
   ],
   "source": [
    "df2.head()"
   ]
  },
  {
   "cell_type": "markdown",
   "metadata": {},
   "source": [
    "### Bag-o'-words and TF-IDF"
   ]
  },
  {
   "cell_type": "code",
   "execution_count": 77,
   "metadata": {},
   "outputs": [],
   "source": [
    "count_vect = CountVectorizer(tokenizer=preprocess_text)\n",
    "bag = count_vect.fit_transform(df2[\"Dialogue\"])"
   ]
  },
  {
   "cell_type": "code",
   "execution_count": 78,
   "metadata": {},
   "outputs": [],
   "source": [
    "tfidf = TfidfTransformer()\n",
    "tfidf_bag = tfidf.fit_transform(bag)"
   ]
  },
  {
   "cell_type": "markdown",
   "metadata": {},
   "source": [
    "### LDA"
   ]
  },
  {
   "cell_type": "code",
   "execution_count": 93,
   "metadata": {},
   "outputs": [],
   "source": [
    "lda = LatentDirichletAllocation(n_topics=5)\n",
    "bag_topics = lda.fit_transform(tfidf_bag)"
   ]
  },
  {
   "cell_type": "code",
   "execution_count": 96,
   "metadata": {
    "scrolled": false
   },
   "outputs": [
    {
     "name": "stdout",
     "output_type": "stream",
     "text": [
      "Topic 1\n",
      "one\n",
      "come\n",
      "got\n",
      "time\n",
      "car\n",
      "that's\n",
      "i've\n",
      "apartment\n",
      "much\n",
      "told\n",
      "\n",
      "Topic 2\n",
      "think\n",
      "well\n",
      "kramer\n",
      "like\n",
      "want\n",
      "get\n",
      "go\n",
      "what's\n",
      "i'm\n",
      "see\n",
      "\n",
      "Topic 3\n",
      "yeah\n",
      "oh\n",
      "yes\n",
      "good\n",
      "know\n",
      "thought\n",
      "god\n",
      "believe\n",
      "ha\n",
      "newman\n",
      "\n",
      "Topic 4\n",
      "right\n",
      "hello\n",
      "tell\n",
      "okay\n",
      "elaine\n",
      "sorry\n",
      "mr\n",
      "way\n",
      "happened\n",
      "nothing\n",
      "\n",
      "Topic 5\n",
      "hey\n",
      "really\n",
      "that's\n",
      "hi\n",
      "can't\n",
      "jerry\n",
      "i'm\n",
      "george\n",
      "uh\n",
      "alright\n",
      "\n"
     ]
    }
   ],
   "source": [
    "n_top_words = 10\n",
    "feature_names = count_vect.get_feature_names()\n",
    "for topic_idx, topic in enumerate(lda.components_):\n",
    "    print(\"Topic {}\".format(topic_idx + 1))\n",
    "    print(\"\\n\".join([feature_names[i] for i in topic.argsort()[:-n_top_words-1:-1]]))\n",
    "    print()"
   ]
  },
  {
   "cell_type": "markdown",
   "metadata": {},
   "source": [
    "Again, I don’t see any emerging themes or story arcs. However, it’s interesting that some of the main characters show up in discrete topics. For example, topic 2 could be the “Kramer” arc, topic 4 is the “Elaine” arc, and topic 5 is the “Jerry and George” arc. Perhaps there’s a character development arc that’s hidden in the noise? I mean, character development isn’t much of a story, but it isn’t nothing either.  To see this, we take a closer look at some of the dialogue from topic five (“Jerry and George”) to see what’s going on in this bucket."
   ]
  },
  {
   "cell_type": "code",
   "execution_count": 134,
   "metadata": {},
   "outputs": [],
   "source": [
    "jerry_george = bag_topics[:,4].argsort()[::-1]"
   ]
  },
  {
   "cell_type": "code",
   "execution_count": 140,
   "metadata": {},
   "outputs": [
    {
     "name": "stdout",
     "output_type": "stream",
     "text": [
      "\n",
      "Jerry and George example #1\n",
      "JERRY: (to the Drake) Sure! ... Okay... Don't worry, I'm taking MY car! ... okay... okay, see you later... bye...\n",
      "\n",
      "Jerry and George example #2\n",
      "JERRY: No.\n",
      "\n",
      "Jerry and George example #3\n",
      "ELAINE: Drake gave her the TV?\n",
      "\n",
      "Jerry and George example #4\n",
      "JERRY: It looks like your belt is digesting a small animal.\n",
      "\n",
      "Jerry and George example #5\n",
      "JERRY: \"I dunno how you could forget . He kept reffering to himself in the third person. \"Jimmy's under the boards. Jimmy's in the open. Jimmy makes the shot.\"\n",
      "\n",
      "Jerry and George example #6\n",
      "STAN: ..So anyway, Jerry, Elaine, we have something we want to ask you.\n",
      "\n",
      "Jerry and George example #7\n",
      "STEVE: (drunk and slurring) Oh Jerry! Jerry! Look who's here, it's Jerry\n",
      "\n",
      "Jerry and George example #8\n",
      "KRAMER: Ok, here's the deal. He wants you to acknowledge that you cut him off with an \"I am sorry\" wave.\n",
      "\n",
      "Jerry and George example #9\n",
      "JERRY: I'm not really a duck fan, the skin seems sort of human.\n",
      "\n",
      "Jerry and George example #10\n",
      "GEORGE: (Defensively) He knows how to read. And he also knows finishing an entire book doesn't prove anything. And get this he's into architecture.\n",
      "\n",
      "Jerry and George example #11\n",
      "GEORGE: Get out of here.\n",
      "\n",
      "Jerry and George example #12\n",
      "JERRY: (exasperated) Where do I find these guys?\n",
      "\n",
      "Jerry and George example #13\n",
      "GEORGE: No (snorts - Laughing nervously)... I'm gonna wear black shoes.\n",
      "\n",
      "Jerry and George example #14\n",
      "ELAINE: (gets Kramer's point) Hah.\n",
      "\n",
      "Jerry and George example #15\n",
      "GEORGE: This is dating , you can't leave anything to chance.\n",
      "\n",
      "Jerry and George example #16\n",
      "BLAINE: I kinda liked it.\n",
      "\n",
      "Jerry and George example #17\n",
      "KRAMER: Oh, I bought myself a little retirement gift. Gold watch.\n",
      "\n",
      "Jerry and George example #18\n",
      "JACKIE (speaking to the intercom): Susie, call Dr. Bison, set up an appointment for Mr. Kramer, tell him it's for me.\n",
      "\n",
      "Jerry and George example #19\n",
      "ELAINE: (patience exhausted) You know what, why don't you just shut the hell up?\n",
      "\n",
      "Jerry and George example #20\n",
      "KRAMER: Well maybe he likes Dinky Donuts.\n",
      "\n",
      "Jerry and George example #21\n",
      "KRAMER: Oh, I'm uh, Steven Snell.\n",
      "\n",
      "Jerry and George example #22\n",
      "GEORGE: (shocked and angry) You paid that crook?!\n",
      "\n",
      "Jerry and George example #23\n",
      "ELAINE: I looked for you too, I was all the way over on the side\n",
      "\n",
      "Jerry and George example #24\n",
      "JERRY: Joe DiMaggio? In Dinky Donuts?\n",
      "\n",
      "Jerry and George example #25\n",
      "ELAINE: Joe DiMaggio dunks his donut?!\n"
     ]
    }
   ],
   "source": [
    "for iter_idx, dialogue_idx in enumerate(jerry_george[:25]):\n",
    "    print(\"\\nJerry and George example #{}\".format(iter_idx + 1))\n",
    "    print(\"{}: {}\".format(df2[\"Character\"][dialogue_idx], df2[\"Dialogue\"][dialogue_idx]))"
   ]
  },
  {
   "cell_type": "markdown",
   "metadata": {},
   "source": [
    "No soup for me. I don’t see much of a unifying theme here either."
   ]
  },
  {
   "cell_type": "markdown",
   "metadata": {},
   "source": [
    "### PCA\n",
    "For good measure, we reduce the feature set down to 2 components using PCA and plot them with colors for characters. Again we don’t find any pattern for further investigation. "
   ]
  },
  {
   "cell_type": "markdown",
   "metadata": {},
   "source": [
    "pca = PCA(n_components=2)\n",
    "pca.fit(bag.toarray())"
   ]
  },
  {
   "cell_type": "code",
   "execution_count": 101,
   "metadata": {},
   "outputs": [],
   "source": [
    "bag_pca = pca.transform(bag.toarray())"
   ]
  },
  {
   "cell_type": "code",
   "execution_count": 102,
   "metadata": {},
   "outputs": [
    {
     "name": "stdout",
     "output_type": "stream",
     "text": [
      "Original shape: (54606, 17130)\n",
      "Reduced shape: (54606, 2)\n"
     ]
    }
   ],
   "source": [
    "print(\"Original shape: {}\".format(str(bag.shape)))\n",
    "print(\"Reduced shape: {}\".format(str(bag_pca.shape)))"
   ]
  },
  {
   "cell_type": "code",
   "execution_count": 119,
   "metadata": {},
   "outputs": [
    {
     "data": {
      "image/png": "[encoded data removed]",
      "text/plain": [
       "<Figure size 720x576 with 1 Axes>"
      ]
     },
     "metadata": {},
     "output_type": "display_data"
    }
   ],
   "source": [
    "fig = plt.figure(figsize=(10, 8))\n",
    "sns.scatterplot(bag_pca[:,0], bag_pca[:,1], hue=df2[\"Character_2\"], alpha=0.5)\n",
    "plt.title(\"Principal components by Character\")\n",
    "plt.xlabel(\"First principal component\")\n",
    "plt.ylabel(\"Second principal component\")\n",
    "plt.show()"
   ]
  },
  {
   "cell_type": "markdown",
   "metadata": {},
   "source": [
    "## Conclusion\n",
    "Seinfeld truly appears to be a show about nothing. This analysis used NLP methods for feature extraction and LDA for topic discovery and found no unifying theme or a series story arc. It literally seems to be show about a bunch of random stuff that happens. Funny stuff, though.\n"
   ]
  },
  {
   "cell_type": "code",
   "execution_count": null,
   "metadata": {},
   "outputs": [],
   "source": []
  }
 ],
 "metadata": {
  "kernelspec": {
   "display_name": "Python 3",
   "language": "python",
   "name": "python3"
  },
  "language_info": {
   "codemirror_mode": {
    "name": "ipython",
    "version": 3
   },
   "file_extension": ".py",
   "mimetype": "text/x-python",
   "name": "python",
   "nbconvert_exporter": "python",
   "pygments_lexer": "ipython3",
   "version": "3.6.6"
  }
 },
 "nbformat": 4,
 "nbformat_minor": 2
}
